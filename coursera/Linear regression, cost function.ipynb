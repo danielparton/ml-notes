{
 "metadata": {
  "name": "Linear regression, cost function"
 },
 "nbformat": 3,
 "nbformat_minor": 0,
 "worksheets": [
  {
   "cells": [
    {
     "cell_type": "heading",
     "level": 3,
     "metadata": {},
     "source": [
      "Training set"
     ]
    },
    {
     "cell_type": "code",
     "collapsed": false,
     "input": [
      "x = arange(1,4)\n",
      "y = arange(1,4)\n",
      "xall = arange(0, 4, 0.001)\n",
      "yall = arange(0, 4, 0.001) # normally we wouldn't know this"
     ],
     "language": "python",
     "metadata": {},
     "outputs": [],
     "prompt_number": 87
    },
    {
     "cell_type": "heading",
     "level": 3,
     "metadata": {},
     "source": [
      "Hypotheses (models)"
     ]
    },
    {
     "cell_type": "code",
     "collapsed": false,
     "input": [
      "thetas = [1,2,0.5,0]\n",
      "def hfunc(x, theta):\n",
      "    return x*theta\n",
      "\n",
      "h_1 = hfunc(xall, thetas[0])\n",
      "h_2 = hfunc(xall, thetas[1])\n",
      "h_05 = hfunc(xall, thetas[2])\n",
      "h_0 = hfunc(xall, thetas[3])"
     ],
     "language": "python",
     "metadata": {},
     "outputs": [],
     "prompt_number": 88
    },
    {
     "cell_type": "code",
     "collapsed": false,
     "input": [
      "scatter(x,y, marker='x', s=80, color='k')\n",
      "plot(xall,h_1, label='$\\\\theta_1 = 1$')\n",
      "plot(xall,h_2, label='$\\\\theta_1 = 2$')\n",
      "plot(xall,h_05, label='$\\\\theta_1 = 0.5$')\n",
      "plot(xall,h_0, label='$\\\\theta_1 = 0$')\n",
      "legend()"
     ],
     "language": "python",
     "metadata": {},
     "outputs": [
      {
       "output_type": "pyout",
       "prompt_number": 89,
       "text": [
        "<matplotlib.legend.Legend at 0x112323dd0>"
       ]
      },
      {
       "output_type": "display_data",
       "png": "[encoded data removed]"
      }
     ],
     "prompt_number": 89
    },
    {
     "cell_type": "heading",
     "level": 3,
     "metadata": {},
     "source": [
      "Plot $J(\\theta_1)$ (cost function) against parameter $\\theta_1$"
     ]
    },
    {
     "cell_type": "code",
     "collapsed": false,
     "input": [
      "def Jfunc(h, t):\n",
      "    return sum( (h-t)**2 ) / (2.0 * len(t))"
     ],
     "language": "python",
     "metadata": {},
     "outputs": [],
     "prompt_number": 94
    },
    {
     "cell_type": "code",
     "collapsed": false,
     "input": [
      "J_of_x = [Jfunc(hfunc(x, theta_i), y) for theta_i in thetas]\n",
      "thetas_all = arange(-0.5, 2.5, 0.01)\n",
      "J_of_xall = [Jfunc(hfunc(xall, theta_i), yall) for theta_i in thetas_all]"
     ],
     "language": "python",
     "metadata": {},
     "outputs": [],
     "prompt_number": 101
    },
    {
     "cell_type": "code",
     "collapsed": false,
     "input": [
      "scatter(thetas, J_of_x, marker='x', s=80)\n",
      "scatter(thetas_all, J_of_xall, marker='o', s=0.1)"
     ],
     "language": "python",
     "metadata": {},
     "outputs": [
      {
       "output_type": "pyout",
       "prompt_number": 107,
       "text": [
        "<matplotlib.collections.PathCollection at 0x112e11d10>"
       ]
      },
      {
       "output_type": "display_data",
       "png": "[encoded data removed]"
      }
     ],
     "prompt_number": 107
    },
    {
     "cell_type": "code",
     "collapsed": false,
     "input": [],
     "language": "python",
     "metadata": {},
     "outputs": []
    }
   ],
   "metadata": {}
  }
 ]
}